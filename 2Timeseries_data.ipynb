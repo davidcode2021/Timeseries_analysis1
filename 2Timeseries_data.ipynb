{
 "cells": [
  {
   "cell_type": "code",
   "execution_count": 3,
   "metadata": {},
   "outputs": [],
   "source": [
    "import pandas as pd\n",
    "from statsmodels.tsa.stattools import adfuller \n",
    "from sklearn.preprocessing import MinMaxScaler\n",
    "from keras.preprocessing.sequence import TimeseriesGenerator\n"
   ]
  },
  {
   "cell_type": "code",
   "execution_count": 14,
   "metadata": {},
   "outputs": [
    {
     "data": {
      "text/plain": [
       "array([[[0.24113097],\n",
       "        [0.36809816],\n",
       "        [0.29993183],\n",
       "        [0.37791411],\n",
       "        [0.36264485]],\n",
       "\n",
       "       [[0.36809816],\n",
       "        [0.29993183],\n",
       "        [0.37791411],\n",
       "        [0.36264485],\n",
       "        [0.40825432]]])"
      ]
     },
     "execution_count": 14,
     "metadata": {},
     "output_type": "execute_result"
    }
   ],
   "source": [
    "df=pd.read_csv(\"Delhi.csv\")\n",
    "df[\"date\"]=pd.to_datetime(df[\"date\"])\n",
    "df.set_index(\"date\", inplace=True)\n",
    "\n",
    "# testing for stationarity of the data\n",
    "adful_test=adfuller(df[\"meantemp\"])\n",
    "# adful_test\n",
    "\n",
    "df1=df.iloc[:,:1]\n",
    "# df[\"meantemp\"].plot()\n",
    "train=df1.iloc[:100]\n",
    "test=df1.iloc[100:]\n",
    "df2=test.copy()\n",
    "\n",
    "scaler=MinMaxScaler()\n",
    "scaler.fit(train)\n",
    "\n",
    "scaler_train=scaler.transform(train)\n",
    "scaler_test=scaler.transform(test)\n",
    "\n",
    "num_input=5\n",
    "num_feature=1\n",
    "\n",
    "generator=TimeseriesGenerator(scaler_train,scaler_train,length=num_input,batch_size=2)\n",
    "\n",
    "X,Y=generator[0]\n",
    "\n",
    "X\n"
   ]
  },
  {
   "cell_type": "code",
   "execution_count": 23,
   "metadata": {},
   "outputs": [
    {
     "name": "stdout",
     "output_type": "stream",
     "text": [
      "Epoch 1/50\n",
      "43/43 [==============================] - 1s 15ms/step - loss: 0.2629\n",
      "Epoch 2/50\n",
      "43/43 [==============================] - 1s 13ms/step - loss: 0.2392\n",
      "Epoch 3/50\n",
      "43/43 [==============================] - 1s 13ms/step - loss: 0.2155\n",
      "Epoch 4/50\n",
      "43/43 [==============================] - 1s 13ms/step - loss: 0.1910\n",
      "Epoch 5/50\n",
      "43/43 [==============================] - 1s 13ms/step - loss: 0.1656\n",
      "Epoch 6/50\n",
      "43/43 [==============================] - 1s 13ms/step - loss: 0.1390\n",
      "Epoch 7/50\n",
      "43/43 [==============================] - 1s 13ms/step - loss: 0.1132\n",
      "Epoch 8/50\n",
      "43/43 [==============================] - 1s 14ms/step - loss: 0.0879\n",
      "Epoch 9/50\n",
      "43/43 [==============================] - 1s 16ms/step - loss: 0.0643\n",
      "Epoch 10/50\n",
      "43/43 [==============================] - 1s 13ms/step - loss: 0.0452\n",
      "Epoch 11/50\n",
      "43/43 [==============================] - 1s 14ms/step - loss: 0.0328\n",
      "Epoch 12/50\n",
      "43/43 [==============================] - 1s 17ms/step - loss: 0.0266\n",
      "Epoch 13/50\n",
      "43/43 [==============================] - 1s 15ms/step - loss: 0.0248\n",
      "Epoch 14/50\n",
      "43/43 [==============================] - 1s 14ms/step - loss: 0.0241\n",
      "Epoch 15/50\n",
      "43/43 [==============================] - 1s 13ms/step - loss: 0.0235\n",
      "Epoch 16/50\n",
      "43/43 [==============================] - 1s 14ms/step - loss: 0.0233\n",
      "Epoch 17/50\n",
      "43/43 [==============================] - 1s 13ms/step - loss: 0.0232\n",
      "Epoch 18/50\n",
      "43/43 [==============================] - 1s 13ms/step - loss: 0.0226\n",
      "Epoch 19/50\n",
      "43/43 [==============================] - 1s 13ms/step - loss: 0.0223\n",
      "Epoch 20/50\n",
      "43/43 [==============================] - 1s 13ms/step - loss: 0.0221\n",
      "Epoch 21/50\n",
      "43/43 [==============================] - 1s 13ms/step - loss: 0.0218\n",
      "Epoch 22/50\n",
      "43/43 [==============================] - 1s 13ms/step - loss: 0.0218\n",
      "Epoch 23/50\n",
      "43/43 [==============================] - 1s 13ms/step - loss: 0.0215\n",
      "Epoch 24/50\n",
      "43/43 [==============================] - 1s 14ms/step - loss: 0.0217\n",
      "Epoch 25/50\n",
      "43/43 [==============================] - 1s 13ms/step - loss: 0.0213\n",
      "Epoch 26/50\n",
      "43/43 [==============================] - 1s 13ms/step - loss: 0.0212\n",
      "Epoch 27/50\n",
      "43/43 [==============================] - 1s 13ms/step - loss: 0.0210\n",
      "Epoch 28/50\n",
      "43/43 [==============================] - 1s 14ms/step - loss: 0.0210\n",
      "Epoch 29/50\n",
      "43/43 [==============================] - 1s 13ms/step - loss: 0.0208\n",
      "Epoch 30/50\n",
      "43/43 [==============================] - 1s 13ms/step - loss: 0.0211\n",
      "Epoch 31/50\n",
      "43/43 [==============================] - 1s 13ms/step - loss: 0.0205\n",
      "Epoch 32/50\n",
      "43/43 [==============================] - 1s 14ms/step - loss: 0.0206\n",
      "Epoch 33/50\n",
      "43/43 [==============================] - 1s 13ms/step - loss: 0.0206\n",
      "Epoch 34/50\n",
      "43/43 [==============================] - 1s 15ms/step - loss: 0.0203\n",
      "Epoch 35/50\n",
      "43/43 [==============================] - 1s 15ms/step - loss: 0.0202\n",
      "Epoch 36/50\n",
      "43/43 [==============================] - 1s 13ms/step - loss: 0.0203\n",
      "Epoch 37/50\n",
      "43/43 [==============================] - 1s 14ms/step - loss: 0.0203\n",
      "Epoch 38/50\n",
      "43/43 [==============================] - 1s 13ms/step - loss: 0.0202\n",
      "Epoch 39/50\n",
      "43/43 [==============================] - 1s 13ms/step - loss: 0.0200\n",
      "Epoch 40/50\n",
      "43/43 [==============================] - 1s 13ms/step - loss: 0.0204\n",
      "Epoch 41/50\n",
      "43/43 [==============================] - 1s 13ms/step - loss: 0.0201\n",
      "Epoch 42/50\n",
      "43/43 [==============================] - 1s 13ms/step - loss: 0.0198\n",
      "Epoch 43/50\n",
      "43/43 [==============================] - 1s 14ms/step - loss: 0.0200\n",
      "Epoch 44/50\n",
      "43/43 [==============================] - 1s 13ms/step - loss: 0.0200\n",
      "Epoch 45/50\n",
      "43/43 [==============================] - 1s 13ms/step - loss: 0.0200\n",
      "Epoch 46/50\n",
      "43/43 [==============================] - 1s 14ms/step - loss: 0.0199\n",
      "Epoch 47/50\n",
      "43/43 [==============================] - 1s 13ms/step - loss: 0.0199\n",
      "Epoch 48/50\n",
      "43/43 [==============================] - 1s 13ms/step - loss: 0.0199\n",
      "Epoch 49/50\n",
      "43/43 [==============================] - 1s 13ms/step - loss: 0.0199\n",
      "Epoch 50/50\n",
      "43/43 [==============================] - 1s 13ms/step - loss: 0.0197\n"
     ]
    },
    {
     "data": {
      "text/plain": [
       "<tensorflow.python.keras.callbacks.History at 0x7f3e67747290>"
      ]
     },
     "execution_count": 23,
     "metadata": {},
     "output_type": "execute_result"
    }
   ],
   "source": [
    "from keras.models import Sequential\n",
    "from keras.layers import Dense,LSTM\n",
    "import tensorflow as tf\n",
    "\n",
    "# defining the model\n",
    "model=Sequential()\n",
    "model.add(LSTM(10, activation=\"relu\", input_shape=(num_input,num_feature),return_sequences=True))\n",
    "model.add(LSTM(20,activation=\"relu\"),)\n",
    "model.add(Dense(1))\n",
    "model.compile(optimizer=tf.optimizers.Adam(learning_rate=0.0001),loss=tf.losses.MeanSquaredError())\n",
    "model.fit(generator,epochs=50)\n",
    "\n"
   ]
  },
  {
   "cell_type": "code",
   "execution_count": 24,
   "metadata": {},
   "outputs": [
    {
     "data": {
      "text/plain": [
       "<matplotlib.axes._subplots.AxesSubplot at 0x7f3e660b6550>"
      ]
     },
     "execution_count": 24,
     "metadata": {},
     "output_type": "execute_result"
    },
    {
     "data": {
      "image/png": "[encoded data removed]",
      "text/plain": [
       "<Figure size 864x432 with 1 Axes>"
      ]
     },
     "metadata": {
      "needs_background": "light"
     },
     "output_type": "display_data"
    }
   ],
   "source": [
    "import numpy as np\n",
    "import matplotlib.pyplot as plt\n",
    "\n",
    "# viewing loss\n",
    "# loss_per_epoch=model.history.history[\"loss\"]\n",
    "# plt.figure(figsize=(6,4))\n",
    "# # plt.plot(range(len(loss_per_epoch)),loss_per_epoch)\n",
    "\n",
    "# testing the data\n",
    "last_train=scaler_train[-14:]\n",
    "last_train=last_train.reshape((1,num_input,num_feature))\n",
    "\n",
    "prediction=model.predict(last_train)\n",
    "\n",
    "pred_train=[]\n",
    "\n",
    "for x in range(len(scaler_test)):\n",
    "    prediction=model.predict(last_train).flatten()\n",
    "    pred_train.append(prediction)\n",
    "\n",
    "    #   use prediction to update last_train\n",
    "    last_train=np.append(last_train[:,1:,:],[[prediction]],axis=1)\n",
    "# prediction,scaler_test[0]\n",
    "\n",
    "pred_train=scaler.inverse_transform(pred_train)\n",
    "df2[\"prediction\"]= pred_train\n",
    "\n",
    "# finding the error of the model\n",
    "from sklearn.metrics import mean_squared_error\n",
    "from math import sqrt\n",
    "rmse=sqrt(mean_squared_error(df2[\"meantemp\"],df2[\"prediction\"]))\n",
    "# print(rmse)\n",
    "\n",
    "df2.plot(figsize=(12,6))\n",
    "\n"
   ]
  },
  {
   "cell_type": "code",
   "execution_count": null,
   "metadata": {},
   "outputs": [],
   "source": []
  }
 ],
 "metadata": {
  "kernelspec": {
   "display_name": "Python 3",
   "language": "python",
   "name": "python3"
  },
  "language_info": {
   "codemirror_mode": {
    "name": "ipython",
    "version": 3
   },
   "file_extension": ".py",
   "mimetype": "text/x-python",
   "name": "python",
   "nbconvert_exporter": "python",
   "pygments_lexer": "ipython3",
   "version": "3.7.6"
  }
 },
 "nbformat": 4,
 "nbformat_minor": 4
}
