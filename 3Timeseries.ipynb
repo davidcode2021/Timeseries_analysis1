{
 "cells": [
  {
   "cell_type": "code",
   "execution_count": 1,
   "metadata": {},
   "outputs": [
    {
     "name": "stderr",
     "output_type": "stream",
     "text": [
      "/home/david/anaconda3/lib/python3.7/site-packages/tensorboard/compat/tensorflow_stub/dtypes.py:541: FutureWarning: Passing (type, 1) or '1type' as a synonym of type is deprecated; in a future version of numpy, it will be understood as (type, (1,)) / '(1,)type'.\n",
      "  _np_qint8 = np.dtype([(\"qint8\", np.int8, 1)])\n",
      "/home/david/anaconda3/lib/python3.7/site-packages/tensorboard/compat/tensorflow_stub/dtypes.py:542: FutureWarning: Passing (type, 1) or '1type' as a synonym of type is deprecated; in a future version of numpy, it will be understood as (type, (1,)) / '(1,)type'.\n",
      "  _np_quint8 = np.dtype([(\"quint8\", np.uint8, 1)])\n",
      "/home/david/anaconda3/lib/python3.7/site-packages/tensorboard/compat/tensorflow_stub/dtypes.py:543: FutureWarning: Passing (type, 1) or '1type' as a synonym of type is deprecated; in a future version of numpy, it will be understood as (type, (1,)) / '(1,)type'.\n",
      "  _np_qint16 = np.dtype([(\"qint16\", np.int16, 1)])\n",
      "/home/david/anaconda3/lib/python3.7/site-packages/tensorboard/compat/tensorflow_stub/dtypes.py:544: FutureWarning: Passing (type, 1) or '1type' as a synonym of type is deprecated; in a future version of numpy, it will be understood as (type, (1,)) / '(1,)type'.\n",
      "  _np_quint16 = np.dtype([(\"quint16\", np.uint16, 1)])\n",
      "/home/david/anaconda3/lib/python3.7/site-packages/tensorboard/compat/tensorflow_stub/dtypes.py:545: FutureWarning: Passing (type, 1) or '1type' as a synonym of type is deprecated; in a future version of numpy, it will be understood as (type, (1,)) / '(1,)type'.\n",
      "  _np_qint32 = np.dtype([(\"qint32\", np.int32, 1)])\n",
      "/home/david/anaconda3/lib/python3.7/site-packages/tensorboard/compat/tensorflow_stub/dtypes.py:550: FutureWarning: Passing (type, 1) or '1type' as a synonym of type is deprecated; in a future version of numpy, it will be understood as (type, (1,)) / '(1,)type'.\n",
      "  np_resource = np.dtype([(\"resource\", np.ubyte, 1)])\n"
     ]
    }
   ],
   "source": [
    "import pandas as pd\n",
    "import numpy as np\n",
    "import tensorflow as tf\n",
    "from sklearn.preprocessing import MinMaxScaler"
   ]
  },
  {
   "cell_type": "code",
   "execution_count": 59,
   "metadata": {},
   "outputs": [
    {
     "name": "stdout",
     "output_type": "stream",
     "text": [
      "Epoch 1/10\n",
      "1/2 [==============>...............] - ETA: 0s - loss: 0.1070 - root_mean_squared_error: 0.3272INFO:tensorflow:Assets written to: model1/assets\n",
      "2/2 [==============================] - 6s 3s/step - loss: 0.1016 - root_mean_squared_error: 0.3188 - val_loss: 0.1557 - val_root_mean_squared_error: 0.3946\n",
      "Epoch 2/10\n",
      "1/2 [==============>...............] - ETA: 0s - loss: 0.0961 - root_mean_squared_error: 0.3100INFO:tensorflow:Assets written to: model1/assets\n",
      "2/2 [==============================] - 5s 2s/step - loss: 0.0857 - root_mean_squared_error: 0.2927 - val_loss: 0.1300 - val_root_mean_squared_error: 0.3606\n",
      "Epoch 3/10\n",
      "1/2 [==============>...............] - ETA: 0s - loss: 0.0819 - root_mean_squared_error: 0.2862INFO:tensorflow:Assets written to: model1/assets\n",
      "2/2 [==============================] - 4s 2s/step - loss: 0.0703 - root_mean_squared_error: 0.2651 - val_loss: 0.1062 - val_root_mean_squared_error: 0.3259\n",
      "Epoch 4/10\n",
      "1/2 [==============>...............] - ETA: 0s - loss: 0.0637 - root_mean_squared_error: 0.2525INFO:tensorflow:Assets written to: model1/assets\n",
      "2/2 [==============================] - 5s 3s/step - loss: 0.0556 - root_mean_squared_error: 0.2358 - val_loss: 0.0802 - val_root_mean_squared_error: 0.2832\n",
      "Epoch 5/10\n",
      "1/2 [==============>...............] - ETA: 0s - loss: 0.0435 - root_mean_squared_error: 0.2086INFO:tensorflow:Assets written to: model1/assets\n",
      "2/2 [==============================] - 5s 2s/step - loss: 0.0406 - root_mean_squared_error: 0.2015 - val_loss: 0.0569 - val_root_mean_squared_error: 0.2385\n",
      "Epoch 6/10\n",
      "1/2 [==============>...............] - ETA: 0s - loss: 0.0316 - root_mean_squared_error: 0.1779INFO:tensorflow:Assets written to: model1/assets\n",
      "2/2 [==============================] - 6s 3s/step - loss: 0.0282 - root_mean_squared_error: 0.1678 - val_loss: 0.0385 - val_root_mean_squared_error: 0.1963\n",
      "Epoch 7/10\n",
      "1/2 [==============>...............] - ETA: 0s - loss: 0.0221 - root_mean_squared_error: 0.1488INFO:tensorflow:Assets written to: model1/assets\n",
      "2/2 [==============================] - 5s 2s/step - loss: 0.0199 - root_mean_squared_error: 0.1410 - val_loss: 0.0246 - val_root_mean_squared_error: 0.1568\n",
      "Epoch 8/10\n",
      "1/2 [==============>...............] - ETA: 0s - loss: 0.0148 - root_mean_squared_error: 0.1215INFO:tensorflow:Assets written to: model1/assets\n",
      "2/2 [==============================] - 5s 2s/step - loss: 0.0140 - root_mean_squared_error: 0.1185 - val_loss: 0.0154 - val_root_mean_squared_error: 0.1243\n",
      "Epoch 9/10\n",
      "1/2 [==============>...............] - ETA: 0s - loss: 0.0124 - root_mean_squared_error: 0.1114INFO:tensorflow:Assets written to: model1/assets\n",
      "2/2 [==============================] - 5s 2s/step - loss: 0.0120 - root_mean_squared_error: 0.1096 - val_loss: 0.0110 - val_root_mean_squared_error: 0.1047\n",
      "Epoch 10/10\n",
      "1/2 [==============>...............] - ETA: 0s - loss: 0.0155 - root_mean_squared_error: 0.1245INFO:tensorflow:Assets written to: model1/assets\n",
      "2/2 [==============================] - 5s 2s/step - loss: 0.0124 - root_mean_squared_error: 0.1115 - val_loss: 0.0100 - val_root_mean_squared_error: 0.1000\n"
     ]
    },
    {
     "data": {
      "text/plain": [
       "<tensorflow.python.keras.callbacks.History at 0x7fc905f5f790>"
      ]
     },
     "execution_count": 59,
     "metadata": {},
     "output_type": "execute_result"
    }
   ],
   "source": [
    "df=pd.read_csv(\"Delhi.csv\")\n",
    "df[\"date\"]=pd.to_datetime(df[\"date\"])\n",
    "df.set_index(\"date\",inplace=True)\n",
    "df2=df.iloc[:,:1]\n",
    "\n",
    "scaler=MinMaxScaler()\n",
    "scaler.fit(df2)\n",
    "df_scale=scaler.transform(df2)\n",
    "\n",
    "\n",
    "# creating the generator function\n",
    "def X_y_gen(df,windowsize=5):\n",
    "    df_nump=df\n",
    "    X=[]\n",
    "    Y=[]\n",
    "    for i in range(len(df_nump)-windowsize):\n",
    "        row=df_nump[i:i+windowsize]\n",
    "        lebel=df_nump[i+windowsize]\n",
    "        X.append(row)\n",
    "        Y.append(lebel)\n",
    "    return np.array(X),np.array(Y)\n",
    "    \n",
    "# splitting the data into train, val and test\n",
    "x,y= X_y_gen(df_scale)\n",
    "X_train,Y_train=x[:60],y[:60]\n",
    "X_val,Y_val=x[60:70],y[60:70]\n",
    "X_test,Y_test=x[70:],y[70:]\n",
    "\n",
    "# defining our model\n",
    "from tensorflow.keras.models import Sequential\n",
    "from tensorflow.keras.layers import InputLayer\n",
    "from tensorflow.keras.layers import LSTM,Dense\n",
    "from tensorflow.keras.callbacks import ModelCheckpoint\n",
    "from tensorflow.keras.losses import MeanSquaredError\n",
    "from tensorflow.keras.metrics import RootMeanSquaredError\n",
    "from tensorflow.keras.optimizers import Adam\n",
    "\n",
    "model=Sequential()\n",
    "model.add(InputLayer((5,1)))\n",
    "model.add(LSTM(64))\n",
    "model.add(Dense(8,\"relu\"))\n",
    "model.add(Dense(1,\"linear\"))\n",
    "\n",
    "# model.summary()\n",
    "cp=ModelCheckpoint(\"model1\",save_best_only=True)\n",
    "model.compile(loss=MeanSquaredError(),optimizer=Adam(), metrics=RootMeanSquaredError())\n",
    "model.fit(X_train,Y_train, validation_data=(X_val,Y_val), epochs=10,callbacks=[cp])\n",
    "\n",
    "\n",
    "\n"
   ]
  },
  {
   "cell_type": "code",
   "execution_count": 63,
   "metadata": {},
   "outputs": [],
   "source": [
    "import matplotlib.pyplot as plt\n",
    "from tensorflow.keras.models import load_model   \n",
    "\n",
    "# loss_per_epoch=model.history.history[\"val_loss\"]\n",
    "# plt.figure(figsize=(6,4))\n",
    "# plt.plot(range(len(loss_per_epoch)),loss_per_epoch)\n",
    "\n",
    "model1=load_model(\"model1\")\n",
    "\n",
    "predic_Y=model1.predict(X_test)\n",
    "\n",
    "predic_Y=scaler.inverse_transform(predic_Y)\n",
    "Y_test=scaler.inverse_transform(Y_test)\n",
    "\n",
    "# Note: if you are putting data in a frame it must be one dimensional\n",
    "# test_result=pd.DataFrame(data={\"prediction\":predic_Y.flatten(),\"Actuals\":Y_test.flatten()}, index=range(len(Y_test)))\n",
    "\n",
    "# test_result"
   ]
  },
  {
   "cell_type": "code",
   "execution_count": 68,
   "metadata": {},
   "outputs": [
    {
     "data": {
      "text/plain": [
       "[<matplotlib.lines.Line2D at 0x7fc9020c0950>]"
      ]
     },
     "execution_count": 68,
     "metadata": {},
     "output_type": "execute_result"
    },
    {
     "data": {
      "image/png": "[encoded data removed]",
      "text/plain": [
       "<Figure size 432x288 with 1 Axes>"
      ]
     },
     "metadata": {
      "needs_background": "light"
     },
     "output_type": "display_data"
    }
   ],
   "source": [
    "test_result=pd.DataFrame(data={\"prediction\":predic_Y.flatten(),\"Actuals\":Y_test.flatten()}, index=range(len(Y_test)))\n",
    "\n",
    "plt.plot(test_result[\"prediction\"][:10])\n",
    "plt.plot(test_result[\"Actuals\"][:10])"
   ]
  },
  {
   "cell_type": "code",
   "execution_count": null,
   "metadata": {},
   "outputs": [],
   "source": []
  }
 ],
 "metadata": {
  "kernelspec": {
   "display_name": "Python 3",
   "language": "python",
   "name": "python3"
  },
  "language_info": {
   "codemirror_mode": {
    "name": "ipython",
    "version": 3
   },
   "file_extension": ".py",
   "mimetype": "text/x-python",
   "name": "python",
   "nbconvert_exporter": "python",
   "pygments_lexer": "ipython3",
   "version": "3.7.6"
  }
 },
 "nbformat": 4,
 "nbformat_minor": 4
}
